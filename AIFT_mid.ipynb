{
  "cells": [
    {
      "cell_type": "code",
      "execution_count": 25,
      "metadata": {
        "id": "KS2BNK5weBX0"
      },
      "outputs": [],
      "source": [
        "from operator import itemgetter\n",
        "import random\n",
        "import matplotlib.pyplot as plt\n",
        "import numpy as np\n",
        "import queue\n",
        "import pandas as pd\n",
        "import random,time\n",
        "import threading\n",
        "from datetime import datetime, date\n",
        "from io import StringIO\n",
        "from multiprocessing import Pool\n",
        "from multiprocessing import Process ,  Queue\n",
        "from itertools import repeat\n",
        "import traceback\n",
        "from random_forest import *"
      ]
    },
    {
      "cell_type": "code",
      "execution_count": 26,
      "metadata": {
        "id": "jy_rQtR-eKGr"
      },
      "outputs": [],
      "source": [
        "\n",
        "#初始種群\n",
        "\n",
        "\n",
        "\n",
        "\n",
        "\n",
        "\n",
        "\n",
        "\n",
        "#計算適應度\n",
        "def evaluate_fitness(pop , training_data , training_data_label , train_year):\n",
        "    fitness = []\n",
        "    \n",
        "    \n",
        "\n",
        "    \n",
        "    # processes數量\n",
        "    CPU_Core_num = 6\n",
        "    pool = Pool(processes = CPU_Core_num)\n",
        "    # 把全部資料丟進process跑 checksize = population / proccess數量\n",
        "    cal_result = pool.starmap(random_forest_Fitness_Process , zip(pop, repeat(training_data) , repeat(training_data_label) , repeat(train_year)) , chunksize = int(len(pop) / CPU_Core_num) )\n",
        "    # cal_result = pool.starmap(BollingerBand_Fitness_Process , zip(pop, repeat(training_data) , repeat(period) , repeat (init_money)) , chunksize = int(len(pop) / CPU_Core_num) )\n",
        "    # for i in pop:\n",
        "    #     cal_result.append(GA_random_forest.random_forest_Fitness_Process(i , training_data , training_data_label , train_year))\n",
        "    print(cal_result[0])\n",
        "\n",
        "    for r in range(len(pop)):\n",
        "        fitness.append([pop[r] , cal_result[r]])\n",
        "    \n",
        "\n",
        "    return max(cal_result) , sum(cal_result)/len(pop) , fitness\n",
        "    \n",
        "\n",
        "\n",
        "#選擇 & 交配\n",
        "def cross(pop,POP_SIZE,DNA_LEN,cross_rate):\n",
        "    new_pop = []\n",
        "    while len(new_pop) != POP_SIZE:\n",
        "        ran_F = random.choices(pop, k=2)\n",
        "        ran_M = random.choices(pop, k=2)\n",
        "        father = max(ran_F, key = itemgetter(1))[0]\n",
        "        mother = max(ran_M, key = itemgetter(1))[0]\n",
        "\n",
        "        if np.random.rand() < cross_rate:\n",
        "            cross_point = np.random.randint(low=0, high = DNA_LEN)\n",
        "            cut_F = father[cross_point:]\n",
        "            cut_M = mother[cross_point:]\n",
        "            father = father[:cross_point]+cut_M\n",
        "            mother = mother[:cross_point]+cut_F\n",
        "\n",
        "        new_pop.extend([father,mother])\n",
        "\n",
        "    return new_pop\n",
        "\n",
        "\n",
        "#變異\n",
        "def mutation(pop,DNA_LEN,mutation_rate):\n",
        "    \n",
        "    for m in range(len(pop)):\n",
        "        if np.random.rand() < mutation_rate:\n",
        "          mutation_gene  = np.random.randint(DNA_LEN)\n",
        "          mu_chromosome = list(pop[m])\n",
        "          if mu_chromosome[mutation_gene] == '1':\n",
        "            mu_chromosome[mutation_gene] = '0'\n",
        "          else:\n",
        "            mu_chromosome[mutation_gene] = '1'\n",
        "          \n",
        "          pop[m] = ''.join(mu_chromosome)\n",
        "\n",
        "    return pop\n",
        "\n",
        "\n",
        "#繪製種群狀態\n",
        "def draw_fitness(run,best_pop,avg_pop):\n",
        "    plt.title(\"Best & Avg fitness\")  #圖表標題\n",
        "    plt.xlabel(\"Generation\")  #圖表x軸標題\n",
        "    plt.ylabel(\"fitness\")  #圖表y軸標題\n",
        "    plt.plot(run, best_pop, color='r', label='Best fitness', linestyle='-', marker='*')   #定義畫圖的顏色、圖例、線條、形狀、寬度\n",
        "    plt.plot(run, avg_pop, color='b', label='Avg fitness', linestyle='--', marker='o')\n",
        "    plt.grid(axis='y')    #定義網格\n",
        "    plt.legend(loc='lower right')   #當有兩種以上資料,可以使用.legend()來顯示資料的圖例"
      ]
    },
    {
      "cell_type": "code",
      "execution_count": 27,
      "metadata": {},
      "outputs": [],
      "source": [
        "def train( training_data , train_data_label , train_years):\n",
        "    run = []\n",
        "    best_fitness = []\n",
        "    avg_fitness = []\n",
        "\n",
        "    POP_SIZE = 400    #種群大小\n",
        "    \n",
        "\n",
        "    DNA_LEN = get_DNA_length()    # \n",
        "    cross_rate = 0.7    #交配概率\n",
        "    mutation_rate = 0.005   #變異概率\n",
        "\n",
        "    #初始種群\n",
        "    pop = init_population(POP_SIZE)\n",
        "\n",
        "\n",
        "    #迭代次數\n",
        "    generation_num = 20\n",
        "    best_chromosome = \"\"\n",
        "    best_fit = -1e9\n",
        "\n",
        "\n",
        "    for i in range(generation_num):\n",
        "        print(f\"[Generation : {i+1}]\")\n",
        "        max_fit , avg_fit, pop = evaluate_fitness(pop , training_data , train_data_label , train_years) #計算適應度\n",
        "        print(f\" Best chromosome : {random_forest_decode(sorted(pop, reverse=True, key = itemgetter(1))[0][0])}\\n {sorted(pop, reverse=True, key = itemgetter(1))[0][0]}\\n Best fitness:{max_fit}\\n Avg fitness:{avg_fit}\\n\")\n",
        "        # print(f\" Best chromosome:{BollingerBand_decode(sorted(pop, reverse=True, key = itemgetter(1))[0][0])}\\n Best fitness:{max_fit}\\n Avg fitness:{avg_fit}\\n\")\n",
        "\n",
        "        if best_fit < max_fit :\n",
        "            best_fit = max_fit\n",
        "            best_chromosome = sorted(pop, reverse=True, key = itemgetter(1))[0][0]\n",
        "\n",
        "        pop = cross(pop,POP_SIZE,DNA_LEN,cross_rate)  #交配 \n",
        "        pop = mutation(pop,DNA_LEN,mutation_rate) #變異\n",
        "\n",
        "        best_fitness.append(max_fit)\n",
        "        avg_fitness.append(avg_fit)\n",
        "        run.append(i+1)\n",
        "\n",
        "    draw_fitness(run,best_fitness,avg_fitness)\n",
        "\n",
        "    return best_chromosome\n"
      ]
    },
    {
      "cell_type": "code",
      "execution_count": 28,
      "metadata": {},
      "outputs": [],
      "source": [
        "def select_stock_and_get_IRR(best_model , drop_columns , train_years , stocks_data , data_years , buy_num):\n",
        "    \n",
        "    total_gain = 100\n",
        "    gain_list = pd.DataFrame(np.array([[0,0,0]]) ,columns = ['Gain' , 'predict' , 'correct'])\n",
        "    \n",
        "    \n",
        "    \n",
        "    for years in range(train_years+1 , 10):\n",
        "        test_data = stocks_data[stocks_data['年月'].isin(data_years[years:years+1])]\n",
        "        test_data_label = test_data['Return']\n",
        "        test_stock_list = test_data['簡稱']\n",
        "        test_data = test_data.drop(columns=['簡稱', '年月', 'Return', 'ReturnMean_year_Label'])\n",
        "\n",
        "        pred_label = random_forest_validate(best_model , drop_columns , test_data , test_data_label , years)\n",
        "        pred_label.insert( loc = 0, column='簡稱' , value = test_stock_list.to_numpy())\n",
        "\n",
        "        pred_label = pred_label.sort_values(by=['return'] , ascending=False)\n",
        "     \n",
        "        #print(test_stock_list)\n",
        "        #print(pred_label)\n",
        "        #print(pred_label.iloc[0]['return'])\n",
        "\n",
        "        next_year_return = 0\n",
        "        pred_year_return = 0\n",
        "\n",
        "        for idx in range(buy_num):\n",
        "            stock_name = pred_label.iloc[idx]['簡稱']\n",
        "            next_year_return += stocks_data[ (stocks_data['簡稱'] == stock_name) & (stocks_data['年月'] == data_years[years] ) ][\"Return\"].to_numpy()[0]\n",
        "            pred_year_return += pred_label.iloc[idx][\"return\"]\n",
        "\n",
        "            print(years ,\" / \" , idx , \" / \" , stocks_data[ (stocks_data['簡稱'] == stock_name) & (stocks_data['年月'] == data_years[years] ) ][\"Return\"].to_numpy()[0] , \"/\" , stock_name)\n",
        "\n",
        "        next_year_return /= buy_num\n",
        "        pred_year_return /= buy_num\n",
        "        #print(stock_name)\n",
        "        # print(data_years[years])\n",
        "        #print(stocks_data[ (stocks_data['簡稱'] == stock_name) & (stocks_data['年月'] == data_years[years] ) ][\"Return\"])\n",
        "\n",
        "\n",
        "        #print(next_year_return)\n",
        "\n",
        "    \n",
        "        total_gain *= (100 + next_year_return) / 100\n",
        "\n",
        "        #print(pred_label.iloc[1][\"return\"])\n",
        "\n",
        "        new_row = pd.Series({\"Gain\" : total_gain , \"predict\" : pred_label.iloc[1][\"return\"], 'correct' :  next_year_return})\n",
        "\n",
        "\n",
        "        gain_list = pd.concat([gain_list, new_row.to_frame().T], ignore_index=True, axis=0)\n",
        "        # print(stocks_data[(stocks_data['簡稱'] == stock_name) ])\n",
        "\n",
        "    # years_name = stocks_data[stocks_data['年月'].isin(data_years[train_years:])][''].to_numpy()\n",
        "    print(gain_list)\n",
        "    print(data_years[train_years:])\n",
        "\n",
        "    years_name = []\n",
        "\n",
        "    for i in range(len(data_years[train_years:])):\n",
        "        years_name.append(str(data_years[train_years:][i])[:4] + \"/\" + str(data_years[train_years:][i])[4:] + \"/1\")\n",
        "\n",
        "\n",
        "    fig = go.Figure()\n",
        "    fig.add_trace(go.Scatter(x=years_name, y=gain_list[\"Gain\"], name = \"Gain\"))\n",
        "    fig.add_trace(go.Scatter(x=years_name, y=gain_list[\"predict\"], name = \"predict\"))\n",
        "    fig.add_trace(go.Scatter(x=years_name, y=gain_list[\"correct\"], name = \"correct\"))\n",
        "    fig.show()\n",
        "    print(\"Total Gain\" , total_gain)\n",
        "\n",
        "    print(\"IRR \" , (( (total_gain/100) ** ( 1 / (10-train_years)))-1 ) * 100)"
      ]
    },
    {
      "cell_type": "code",
      "execution_count": 29,
      "metadata": {
        "colab": {
          "base_uri": "https://localhost:8080/",
          "height": 424
        },
        "id": "05-rRaWEr24s",
        "outputId": "a292e8f6-0643-44c0-d618-0d096fbd3ddd"
      },
      "outputs": [
        {
          "name": "stdout",
          "output_type": "stream",
          "text": [
            "{'n_estimators': 72, 'max_depth': 23, 'max_features': 0.015748031496062992, 'max_samples': 0.4931875, 'oob_score': True, 'n_jobs': -1, 'random_state': 0}\n",
            "['資產報酬率ROA', '營業利益率OPM', '利潤邊際NPM', '負債/淨值比', 'M流動比率', 'M應收帳款週轉次', 'M稅後淨利成長率']\n",
            "MSE  1301.4876942579594\n",
            "6  /  0  /  -31.4933 / 友尚         \n",
            "6  /  1  /  -7.709 / 英業達       \n",
            "6  /  2  /  36.8593 / 亞泥         \n",
            "6  /  3  /  49.831 / 力成         \n",
            "6  /  4  /  17.3597 / 聯強         \n",
            "6  /  5  /  17.4724 / 中光電       \n",
            "6  /  6  /  45.4018 / 中鋼         \n",
            "6  /  7  /  -10.3569 / 寶成         \n",
            "6  /  8  /  24.7241 / 神達         \n",
            "6  /  9  /  11.391 / 長興         \n",
            "MSE  3465.812998394505\n",
            "7  /  0  /  45.1531 / 台橡         \n",
            "7  /  1  /  74.4708 / 華立         \n",
            "7  /  2  /  16.7751 / 智邦         \n",
            "7  /  3  /  12.6812 / 環電         \n",
            "7  /  4  /  99.0573 / 京元電       \n",
            "7  /  5  /  174.1789 / 緯創         \n",
            "7  /  6  /  77.3075 / 中光電       \n",
            "7  /  7  /  66.6667 / 榮化         \n",
            "7  /  8  /  -33.1325 / 中纖         \n",
            "7  /  9  /  36.2832 / 長興         \n",
            "MSE  3839.3502919500174\n",
            "8  /  0  /  12.0795 / 台聚         \n",
            "8  /  1  /  11.6762 / 華晶科       \n",
            "8  /  2  /  60.3425 / 榮化         \n",
            "8  /  3  /  -0.8813 / 精成科       \n",
            "8  /  4  /  41.3068 / 盛餘         \n",
            "8  /  5  /  39.8551 / 東森         \n",
            "8  /  6  /  64.0869 / 中鋼         \n",
            "8  /  7  /  81.3301 / 亞泥         \n",
            "8  /  8  /  182.0697 / 群聯         \n",
            "8  /  9  /  121.5729 / 長興         \n",
            "MSE  2474.399473133004\n",
            "9  /  0  /  136.4328 / 大聯大       \n",
            "9  /  1  /  -33.9909 / 茂德         \n",
            "9  /  2  /  -25.3651 / 力晶         \n",
            "9  /  3  /  -16.5385 / 華新         \n",
            "9  /  4  /  -12.8925 / 精成科       \n",
            "9  /  5  /  13.2862 / 中光電       \n",
            "9  /  6  /  37.0692 / 聯發科       \n",
            "9  /  7  /  -21.5679 / 可成         \n",
            "9  /  8  /  -100.0 / D 台固       \n",
            "9  /  9  /  15.1698 / 聯成         \n",
            "         Gain    predict   correct\n",
            "0    0.000000   0.000000   0.00000\n",
            "1  115.348010  33.428515  15.34801\n",
            "2  181.031931  46.690074  56.94413\n",
            "3  292.083869  38.849383  61.34384\n",
            "4  289.631270  35.529125  -0.83969\n",
            "[200212 200312 200412 200512 200612 200712 200812 200912]\n"
          ]
        },
        {
          "data": {
            "application/vnd.plotly.v1+json": {
              "config": {
                "plotlyServerURL": "https://plot.ly"
              },
              "data": [
                {
                  "name": "Gain",
                  "type": "scatter",
                  "x": [
                    "2002/12/1",
                    "2003/12/1",
                    "2004/12/1",
                    "2005/12/1",
                    "2006/12/1",
                    "2007/12/1",
                    "2008/12/1",
                    "2009/12/1"
                  ],
                  "y": [
                    0,
                    115.34801000000002,
                    181.03193076681302,
                    292.0838687253176,
                    289.63126968801794
                  ]
                },
                {
                  "name": "predict",
                  "type": "scatter",
                  "x": [
                    "2002/12/1",
                    "2003/12/1",
                    "2004/12/1",
                    "2005/12/1",
                    "2006/12/1",
                    "2007/12/1",
                    "2008/12/1",
                    "2009/12/1"
                  ],
                  "y": [
                    0,
                    33.428515277777784,
                    46.69007444444444,
                    38.84938333333335,
                    35.529125
                  ]
                },
                {
                  "name": "correct",
                  "type": "scatter",
                  "x": [
                    "2002/12/1",
                    "2003/12/1",
                    "2004/12/1",
                    "2005/12/1",
                    "2006/12/1",
                    "2007/12/1",
                    "2008/12/1",
                    "2009/12/1"
                  ],
                  "y": [
                    0,
                    15.348009999999999,
                    56.944129999999994,
                    61.34384,
                    -0.8396900000000025
                  ]
                }
              ],
              "layout": {
                "template": {
                  "data": {
                    "bar": [
                      {
                        "error_x": {
                          "color": "#2a3f5f"
                        },
                        "error_y": {
                          "color": "#2a3f5f"
                        },
                        "marker": {
                          "line": {
                            "color": "#E5ECF6",
                            "width": 0.5
                          },
                          "pattern": {
                            "fillmode": "overlay",
                            "size": 10,
                            "solidity": 0.2
                          }
                        },
                        "type": "bar"
                      }
                    ],
                    "barpolar": [
                      {
                        "marker": {
                          "line": {
                            "color": "#E5ECF6",
                            "width": 0.5
                          },
                          "pattern": {
                            "fillmode": "overlay",
                            "size": 10,
                            "solidity": 0.2
                          }
                        },
                        "type": "barpolar"
                      }
                    ],
                    "carpet": [
                      {
                        "aaxis": {
                          "endlinecolor": "#2a3f5f",
                          "gridcolor": "white",
                          "linecolor": "white",
                          "minorgridcolor": "white",
                          "startlinecolor": "#2a3f5f"
                        },
                        "baxis": {
                          "endlinecolor": "#2a3f5f",
                          "gridcolor": "white",
                          "linecolor": "white",
                          "minorgridcolor": "white",
                          "startlinecolor": "#2a3f5f"
                        },
                        "type": "carpet"
                      }
                    ],
                    "choropleth": [
                      {
                        "colorbar": {
                          "outlinewidth": 0,
                          "ticks": ""
                        },
                        "type": "choropleth"
                      }
                    ],
                    "contour": [
                      {
                        "colorbar": {
                          "outlinewidth": 0,
                          "ticks": ""
                        },
                        "colorscale": [
                          [
                            0,
                            "#0d0887"
                          ],
                          [
                            0.1111111111111111,
                            "#46039f"
                          ],
                          [
                            0.2222222222222222,
                            "#7201a8"
                          ],
                          [
                            0.3333333333333333,
                            "#9c179e"
                          ],
                          [
                            0.4444444444444444,
                            "#bd3786"
                          ],
                          [
                            0.5555555555555556,
                            "#d8576b"
                          ],
                          [
                            0.6666666666666666,
                            "#ed7953"
                          ],
                          [
                            0.7777777777777778,
                            "#fb9f3a"
                          ],
                          [
                            0.8888888888888888,
                            "#fdca26"
                          ],
                          [
                            1,
                            "#f0f921"
                          ]
                        ],
                        "type": "contour"
                      }
                    ],
                    "contourcarpet": [
                      {
                        "colorbar": {
                          "outlinewidth": 0,
                          "ticks": ""
                        },
                        "type": "contourcarpet"
                      }
                    ],
                    "heatmap": [
                      {
                        "colorbar": {
                          "outlinewidth": 0,
                          "ticks": ""
                        },
                        "colorscale": [
                          [
                            0,
                            "#0d0887"
                          ],
                          [
                            0.1111111111111111,
                            "#46039f"
                          ],
                          [
                            0.2222222222222222,
                            "#7201a8"
                          ],
                          [
                            0.3333333333333333,
                            "#9c179e"
                          ],
                          [
                            0.4444444444444444,
                            "#bd3786"
                          ],
                          [
                            0.5555555555555556,
                            "#d8576b"
                          ],
                          [
                            0.6666666666666666,
                            "#ed7953"
                          ],
                          [
                            0.7777777777777778,
                            "#fb9f3a"
                          ],
                          [
                            0.8888888888888888,
                            "#fdca26"
                          ],
                          [
                            1,
                            "#f0f921"
                          ]
                        ],
                        "type": "heatmap"
                      }
                    ],
                    "heatmapgl": [
                      {
                        "colorbar": {
                          "outlinewidth": 0,
                          "ticks": ""
                        },
                        "colorscale": [
                          [
                            0,
                            "#0d0887"
                          ],
                          [
                            0.1111111111111111,
                            "#46039f"
                          ],
                          [
                            0.2222222222222222,
                            "#7201a8"
                          ],
                          [
                            0.3333333333333333,
                            "#9c179e"
                          ],
                          [
                            0.4444444444444444,
                            "#bd3786"
                          ],
                          [
                            0.5555555555555556,
                            "#d8576b"
                          ],
                          [
                            0.6666666666666666,
                            "#ed7953"
                          ],
                          [
                            0.7777777777777778,
                            "#fb9f3a"
                          ],
                          [
                            0.8888888888888888,
                            "#fdca26"
                          ],
                          [
                            1,
                            "#f0f921"
                          ]
                        ],
                        "type": "heatmapgl"
                      }
                    ],
                    "histogram": [
                      {
                        "marker": {
                          "pattern": {
                            "fillmode": "overlay",
                            "size": 10,
                            "solidity": 0.2
                          }
                        },
                        "type": "histogram"
                      }
                    ],
                    "histogram2d": [
                      {
                        "colorbar": {
                          "outlinewidth": 0,
                          "ticks": ""
                        },
                        "colorscale": [
                          [
                            0,
                            "#0d0887"
                          ],
                          [
                            0.1111111111111111,
                            "#46039f"
                          ],
                          [
                            0.2222222222222222,
                            "#7201a8"
                          ],
                          [
                            0.3333333333333333,
                            "#9c179e"
                          ],
                          [
                            0.4444444444444444,
                            "#bd3786"
                          ],
                          [
                            0.5555555555555556,
                            "#d8576b"
                          ],
                          [
                            0.6666666666666666,
                            "#ed7953"
                          ],
                          [
                            0.7777777777777778,
                            "#fb9f3a"
                          ],
                          [
                            0.8888888888888888,
                            "#fdca26"
                          ],
                          [
                            1,
                            "#f0f921"
                          ]
                        ],
                        "type": "histogram2d"
                      }
                    ],
                    "histogram2dcontour": [
                      {
                        "colorbar": {
                          "outlinewidth": 0,
                          "ticks": ""
                        },
                        "colorscale": [
                          [
                            0,
                            "#0d0887"
                          ],
                          [
                            0.1111111111111111,
                            "#46039f"
                          ],
                          [
                            0.2222222222222222,
                            "#7201a8"
                          ],
                          [
                            0.3333333333333333,
                            "#9c179e"
                          ],
                          [
                            0.4444444444444444,
                            "#bd3786"
                          ],
                          [
                            0.5555555555555556,
                            "#d8576b"
                          ],
                          [
                            0.6666666666666666,
                            "#ed7953"
                          ],
                          [
                            0.7777777777777778,
                            "#fb9f3a"
                          ],
                          [
                            0.8888888888888888,
                            "#fdca26"
                          ],
                          [
                            1,
                            "#f0f921"
                          ]
                        ],
                        "type": "histogram2dcontour"
                      }
                    ],
                    "mesh3d": [
                      {
                        "colorbar": {
                          "outlinewidth": 0,
                          "ticks": ""
                        },
                        "type": "mesh3d"
                      }
                    ],
                    "parcoords": [
                      {
                        "line": {
                          "colorbar": {
                            "outlinewidth": 0,
                            "ticks": ""
                          }
                        },
                        "type": "parcoords"
                      }
                    ],
                    "pie": [
                      {
                        "automargin": true,
                        "type": "pie"
                      }
                    ],
                    "scatter": [
                      {
                        "fillpattern": {
                          "fillmode": "overlay",
                          "size": 10,
                          "solidity": 0.2
                        },
                        "type": "scatter"
                      }
                    ],
                    "scatter3d": [
                      {
                        "line": {
                          "colorbar": {
                            "outlinewidth": 0,
                            "ticks": ""
                          }
                        },
                        "marker": {
                          "colorbar": {
                            "outlinewidth": 0,
                            "ticks": ""
                          }
                        },
                        "type": "scatter3d"
                      }
                    ],
                    "scattercarpet": [
                      {
                        "marker": {
                          "colorbar": {
                            "outlinewidth": 0,
                            "ticks": ""
                          }
                        },
                        "type": "scattercarpet"
                      }
                    ],
                    "scattergeo": [
                      {
                        "marker": {
                          "colorbar": {
                            "outlinewidth": 0,
                            "ticks": ""
                          }
                        },
                        "type": "scattergeo"
                      }
                    ],
                    "scattergl": [
                      {
                        "marker": {
                          "colorbar": {
                            "outlinewidth": 0,
                            "ticks": ""
                          }
                        },
                        "type": "scattergl"
                      }
                    ],
                    "scattermapbox": [
                      {
                        "marker": {
                          "colorbar": {
                            "outlinewidth": 0,
                            "ticks": ""
                          }
                        },
                        "type": "scattermapbox"
                      }
                    ],
                    "scatterpolar": [
                      {
                        "marker": {
                          "colorbar": {
                            "outlinewidth": 0,
                            "ticks": ""
                          }
                        },
                        "type": "scatterpolar"
                      }
                    ],
                    "scatterpolargl": [
                      {
                        "marker": {
                          "colorbar": {
                            "outlinewidth": 0,
                            "ticks": ""
                          }
                        },
                        "type": "scatterpolargl"
                      }
                    ],
                    "scatterternary": [
                      {
                        "marker": {
                          "colorbar": {
                            "outlinewidth": 0,
                            "ticks": ""
                          }
                        },
                        "type": "scatterternary"
                      }
                    ],
                    "surface": [
                      {
                        "colorbar": {
                          "outlinewidth": 0,
                          "ticks": ""
                        },
                        "colorscale": [
                          [
                            0,
                            "#0d0887"
                          ],
                          [
                            0.1111111111111111,
                            "#46039f"
                          ],
                          [
                            0.2222222222222222,
                            "#7201a8"
                          ],
                          [
                            0.3333333333333333,
                            "#9c179e"
                          ],
                          [
                            0.4444444444444444,
                            "#bd3786"
                          ],
                          [
                            0.5555555555555556,
                            "#d8576b"
                          ],
                          [
                            0.6666666666666666,
                            "#ed7953"
                          ],
                          [
                            0.7777777777777778,
                            "#fb9f3a"
                          ],
                          [
                            0.8888888888888888,
                            "#fdca26"
                          ],
                          [
                            1,
                            "#f0f921"
                          ]
                        ],
                        "type": "surface"
                      }
                    ],
                    "table": [
                      {
                        "cells": {
                          "fill": {
                            "color": "#EBF0F8"
                          },
                          "line": {
                            "color": "white"
                          }
                        },
                        "header": {
                          "fill": {
                            "color": "#C8D4E3"
                          },
                          "line": {
                            "color": "white"
                          }
                        },
                        "type": "table"
                      }
                    ]
                  },
                  "layout": {
                    "annotationdefaults": {
                      "arrowcolor": "#2a3f5f",
                      "arrowhead": 0,
                      "arrowwidth": 1
                    },
                    "autotypenumbers": "strict",
                    "coloraxis": {
                      "colorbar": {
                        "outlinewidth": 0,
                        "ticks": ""
                      }
                    },
                    "colorscale": {
                      "diverging": [
                        [
                          0,
                          "#8e0152"
                        ],
                        [
                          0.1,
                          "#c51b7d"
                        ],
                        [
                          0.2,
                          "#de77ae"
                        ],
                        [
                          0.3,
                          "#f1b6da"
                        ],
                        [
                          0.4,
                          "#fde0ef"
                        ],
                        [
                          0.5,
                          "#f7f7f7"
                        ],
                        [
                          0.6,
                          "#e6f5d0"
                        ],
                        [
                          0.7,
                          "#b8e186"
                        ],
                        [
                          0.8,
                          "#7fbc41"
                        ],
                        [
                          0.9,
                          "#4d9221"
                        ],
                        [
                          1,
                          "#276419"
                        ]
                      ],
                      "sequential": [
                        [
                          0,
                          "#0d0887"
                        ],
                        [
                          0.1111111111111111,
                          "#46039f"
                        ],
                        [
                          0.2222222222222222,
                          "#7201a8"
                        ],
                        [
                          0.3333333333333333,
                          "#9c179e"
                        ],
                        [
                          0.4444444444444444,
                          "#bd3786"
                        ],
                        [
                          0.5555555555555556,
                          "#d8576b"
                        ],
                        [
                          0.6666666666666666,
                          "#ed7953"
                        ],
                        [
                          0.7777777777777778,
                          "#fb9f3a"
                        ],
                        [
                          0.8888888888888888,
                          "#fdca26"
                        ],
                        [
                          1,
                          "#f0f921"
                        ]
                      ],
                      "sequentialminus": [
                        [
                          0,
                          "#0d0887"
                        ],
                        [
                          0.1111111111111111,
                          "#46039f"
                        ],
                        [
                          0.2222222222222222,
                          "#7201a8"
                        ],
                        [
                          0.3333333333333333,
                          "#9c179e"
                        ],
                        [
                          0.4444444444444444,
                          "#bd3786"
                        ],
                        [
                          0.5555555555555556,
                          "#d8576b"
                        ],
                        [
                          0.6666666666666666,
                          "#ed7953"
                        ],
                        [
                          0.7777777777777778,
                          "#fb9f3a"
                        ],
                        [
                          0.8888888888888888,
                          "#fdca26"
                        ],
                        [
                          1,
                          "#f0f921"
                        ]
                      ]
                    },
                    "colorway": [
                      "#636efa",
                      "#EF553B",
                      "#00cc96",
                      "#ab63fa",
                      "#FFA15A",
                      "#19d3f3",
                      "#FF6692",
                      "#B6E880",
                      "#FF97FF",
                      "#FECB52"
                    ],
                    "font": {
                      "color": "#2a3f5f"
                    },
                    "geo": {
                      "bgcolor": "white",
                      "lakecolor": "white",
                      "landcolor": "#E5ECF6",
                      "showlakes": true,
                      "showland": true,
                      "subunitcolor": "white"
                    },
                    "hoverlabel": {
                      "align": "left"
                    },
                    "hovermode": "closest",
                    "mapbox": {
                      "style": "light"
                    },
                    "paper_bgcolor": "white",
                    "plot_bgcolor": "#E5ECF6",
                    "polar": {
                      "angularaxis": {
                        "gridcolor": "white",
                        "linecolor": "white",
                        "ticks": ""
                      },
                      "bgcolor": "#E5ECF6",
                      "radialaxis": {
                        "gridcolor": "white",
                        "linecolor": "white",
                        "ticks": ""
                      }
                    },
                    "scene": {
                      "xaxis": {
                        "backgroundcolor": "#E5ECF6",
                        "gridcolor": "white",
                        "gridwidth": 2,
                        "linecolor": "white",
                        "showbackground": true,
                        "ticks": "",
                        "zerolinecolor": "white"
                      },
                      "yaxis": {
                        "backgroundcolor": "#E5ECF6",
                        "gridcolor": "white",
                        "gridwidth": 2,
                        "linecolor": "white",
                        "showbackground": true,
                        "ticks": "",
                        "zerolinecolor": "white"
                      },
                      "zaxis": {
                        "backgroundcolor": "#E5ECF6",
                        "gridcolor": "white",
                        "gridwidth": 2,
                        "linecolor": "white",
                        "showbackground": true,
                        "ticks": "",
                        "zerolinecolor": "white"
                      }
                    },
                    "shapedefaults": {
                      "line": {
                        "color": "#2a3f5f"
                      }
                    },
                    "ternary": {
                      "aaxis": {
                        "gridcolor": "white",
                        "linecolor": "white",
                        "ticks": ""
                      },
                      "baxis": {
                        "gridcolor": "white",
                        "linecolor": "white",
                        "ticks": ""
                      },
                      "bgcolor": "#E5ECF6",
                      "caxis": {
                        "gridcolor": "white",
                        "linecolor": "white",
                        "ticks": ""
                      }
                    },
                    "title": {
                      "x": 0.05
                    },
                    "xaxis": {
                      "automargin": true,
                      "gridcolor": "white",
                      "linecolor": "white",
                      "ticks": "",
                      "title": {
                        "standoff": 15
                      },
                      "zerolinecolor": "white",
                      "zerolinewidth": 2
                    },
                    "yaxis": {
                      "automargin": true,
                      "gridcolor": "white",
                      "linecolor": "white",
                      "ticks": "",
                      "title": {
                        "standoff": 15
                      },
                      "zerolinecolor": "white",
                      "zerolinewidth": 2
                    }
                  }
                }
              }
            }
          },
          "metadata": {},
          "output_type": "display_data"
        },
        {
          "name": "stdout",
          "output_type": "stream",
          "text": [
            "Total Gain 289.63126968801794\n",
            "IRR  0.23699826253200906\n"
          ]
        },
        {
          "ename": "TypeError",
          "evalue": "unsupported operand type(s) for *: 'NoneType' and 'int'",
          "output_type": "error",
          "traceback": [
            "\u001b[1;31m---------------------------------------------------------------------------\u001b[0m",
            "\u001b[1;31mTypeError\u001b[0m                                 Traceback (most recent call last)",
            "Cell \u001b[1;32mIn[29], line 18\u001b[0m\n\u001b[0;32m     15\u001b[0m \u001b[39m#best_chromosome = train(train_data , train_data_label , train_years)\u001b[39;00m\n\u001b[0;32m     16\u001b[0m best_model , drop_columns \u001b[39m=\u001b[39m get_best_model(\u001b[39m\"\u001b[39m\u001b[39m101001110100001011111101111110000011010\u001b[39m\u001b[39m\"\u001b[39m ,train_data , train_data_label)\n\u001b[1;32m---> 18\u001b[0m select_stock_and_get_IRR(best_model , drop_columns , train_years , stocks_data , data_years , \u001b[39m10\u001b[39;49m)\n\u001b[0;32m     19\u001b[0m \u001b[39m# test_data = stocks_data[stocks_data['年月'].isin(data_years[train_years:-1])]\u001b[39;00m\n\u001b[0;32m     20\u001b[0m \u001b[39m# test_data_label = test_data['Return']\u001b[39;00m\n\u001b[0;32m     21\u001b[0m \u001b[39m# test_data = test_data.drop(columns=['簡稱', '年月', 'Return', 'ReturnMean_year_Label'])\u001b[39;00m\n\u001b[1;32m   (...)\u001b[0m\n\u001b[0;32m     30\u001b[0m \n\u001b[0;32m     31\u001b[0m \u001b[39m# print(pred_label.sort_values(by=['return'] , ascending=False))\u001b[39;00m\n",
            "Cell \u001b[1;32mIn[28], line 70\u001b[0m, in \u001b[0;36mselect_stock_and_get_IRR\u001b[1;34m(best_model, drop_columns, train_years, stocks_data, data_years, buy_num)\u001b[0m\n\u001b[0;32m     67\u001b[0m fig\u001b[39m.\u001b[39mshow()\n\u001b[0;32m     68\u001b[0m \u001b[39mprint\u001b[39m(\u001b[39m\"\u001b[39m\u001b[39mTotal Gain\u001b[39m\u001b[39m\"\u001b[39m , total_gain)\n\u001b[1;32m---> 70\u001b[0m \u001b[39mprint\u001b[39;49m(\u001b[39m\"\u001b[39;49m\u001b[39mIRR \u001b[39;49m\u001b[39m\"\u001b[39;49m , ( (total_gain\u001b[39m/\u001b[39;49m\u001b[39m100\u001b[39;49m) \u001b[39m*\u001b[39;49m\u001b[39m*\u001b[39;49m ( \u001b[39m1\u001b[39;49m \u001b[39m/\u001b[39;49m (\u001b[39m10\u001b[39;49m\u001b[39m-\u001b[39;49mtrain_years)))\u001b[39m-\u001b[39;49m\u001b[39m1\u001b[39;49m) \u001b[39m*\u001b[39;49m \u001b[39m100\u001b[39;49m\n",
            "\u001b[1;31mTypeError\u001b[0m: unsupported operand type(s) for *: 'NoneType' and 'int'"
          ]
        }
      ],
      "source": [
        "if __name__ == '__main__':  \n",
        "    data = pd.read_csv('./top200_training.csv')  #讀取csv資料檔\n",
        "\n",
        "    stocks_data = pd.read_csv('./top200_training.csv' )\n",
        "    stocks_data = stocks_data.drop(columns=['證券代碼'])\n",
        "    data_years = stocks_data['年月'].unique()\n",
        "\n",
        "       # for split_year in split_year_li:\n",
        "    for train_years in range(5,6):\n",
        "\n",
        "        train_data = stocks_data[stocks_data['年月'].isin(data_years[:train_years])]\n",
        "        train_data_label = train_data['Return']\n",
        "        train_data = train_data.drop(columns=['簡稱', '年月', 'Return', 'ReturnMean_year_Label'])\n",
        "\n",
        "        #best_chromosome = train(train_data , train_data_label , train_years)\n",
        "        best_model , drop_columns = get_best_model(\"101001110100001011111101111110000011010\" ,train_data , train_data_label)\n",
        "\n",
        "        select_stock_and_get_IRR(best_model , drop_columns , train_years , stocks_data , data_years , 10)\n",
        "        # test_data = stocks_data[stocks_data['年月'].isin(data_years[train_years:-1])]\n",
        "        # test_data_label = test_data['Return']\n",
        "        # test_data = test_data.drop(columns=['簡稱', '年月', 'Return', 'ReturnMean_year_Label'])\n",
        "        \n",
        "\n",
        "        \n",
        "        # train出最好的染色體\n",
        "        #pred_data = random_forest_validate(best_chromosome ,train_data , train_data_label , test_data , test_data_label , 3)\n",
        "        # best_model , drop_columns = get_best_model(\"101001110100001011111101111110000011010\" ,train_data , train_data_label)\n",
        "        # pred_label = random_forest_validate(best_model , drop_columns , test_data , test_data_label , 3)\n",
        "        # pred_label.insert( loc = 0, column='簡稱' , value = stocks_data['簡稱'])\n",
        "\n",
        "        # print(pred_label.sort_values(by=['return'] , ascending=False))\n",
        "\n"
      ]
    },
    {
      "cell_type": "code",
      "execution_count": null,
      "metadata": {},
      "outputs": [
        {
          "ename": "NameError",
          "evalue": "name 'test_data' is not defined",
          "output_type": "error",
          "traceback": [
            "\u001b[1;31m---------------------------------------------------------------------------\u001b[0m",
            "\u001b[1;31mNameError\u001b[0m                                 Traceback (most recent call last)",
            "Cell \u001b[1;32mIn[24], line 2\u001b[0m\n\u001b[0;32m      1\u001b[0m \u001b[39m# 101001110100001011111101111110000011010\u001b[39;00m\n\u001b[1;32m----> 2\u001b[0m \u001b[39mprint\u001b[39m(random_forest_validate(\u001b[39m\"\u001b[39m\u001b[39m101001110100001011111101111110000011010\u001b[39m\u001b[39m\"\u001b[39m ,train_data , train_data_label , test_data , test_data_label , \u001b[39m3\u001b[39m))\n",
            "\u001b[1;31mNameError\u001b[0m: name 'test_data' is not defined"
          ]
        }
      ],
      "source": [
        "# 101001110100001011111101111110000011010\n",
        "print(random_forest_validate(\"101001110100001011111101111110000011010\" ,train_data , train_data_label , test_data , test_data_label , 3))\n"
      ]
    }
  ],
  "metadata": {
    "colab": {
      "collapsed_sections": [
        "tnCmpL6dm4pf",
        "WRoOyetdrvu2"
      ],
      "provenance": []
    },
    "kernelspec": {
      "display_name": "AIFT",
      "language": "python",
      "name": "python3"
    },
    "language_info": {
      "codemirror_mode": {
        "name": "ipython",
        "version": 3
      },
      "file_extension": ".py",
      "mimetype": "text/x-python",
      "name": "python",
      "nbconvert_exporter": "python",
      "pygments_lexer": "ipython3",
      "version": "3.9.15"
    },
    "vscode": {
      "interpreter": {
        "hash": "08e0458b554c2e15ec9e5c1fb89f41fc334ad7e45231237ea471309645d35614"
      }
    }
  },
  "nbformat": 4,
  "nbformat_minor": 0
}
