{
  "cells": [
    {
      "cell_type": "code",
      "execution_count": 89,
      "metadata": {
        "id": "KS2BNK5weBX0"
      },
      "outputs": [],
      "source": [
        "from operator import itemgetter\n",
        "import random\n",
        "import matplotlib.pyplot as plt\n",
        "import numpy as np\n",
        "import queue\n",
        "import pandas as pd\n",
        "import random,time\n",
        "import threading\n",
        "from datetime import datetime, date\n",
        "from io import StringIO\n",
        "from multiprocessing import Pool\n",
        "from multiprocessing import Process ,  Queue\n",
        "from itertools import repeat\n",
        "import traceback\n",
        "from sklearn.ensemble import StackingRegressor\n",
        "from sklearn.neural_network import MLPRegressor\n",
        "# from random_forest import *\n",
        "from adaBoost import *"
      ]
    },
    {
      "cell_type": "code",
      "execution_count": 90,
      "metadata": {
        "id": "jy_rQtR-eKGr"
      },
      "outputs": [],
      "source": [
        "\n",
        "#計算適應度\n",
        "def evaluate_fitness(pop , training_data , training_data_label , train_year):\n",
        "    fitness = []\n",
        "\n",
        "    \n",
        "    # processes數量\n",
        "    CPU_Core_num = 6\n",
        "    pool = Pool(processes = CPU_Core_num)\n",
        "    # 把全部資料丟進process跑 checksize = population / proccess數量\n",
        "    # cal_result = pool.starmap(random_forest_Fitness_Process , zip(pop, repeat(training_data) , repeat(training_data_label) , repeat(train_year)) , chunksize = int(len(pop) / CPU_Core_num) )\n",
        "    cal_result = pool.starmap(adaBooest_Fitness_Process , zip(pop, repeat(training_data) , repeat(training_data_label) , repeat(train_year)) , chunksize = int(len(pop) / CPU_Core_num) )\n",
        "    \n",
        "    \n",
        "    #print(cal_result)\n",
        "\n",
        "    for r in range(len(pop)):\n",
        "        fitness.append([pop[r] , cal_result[r]])\n",
        "    \n",
        "\n",
        "    return max(cal_result) , sum(cal_result)/len(pop) , fitness\n",
        "    \n",
        "\n",
        "\n",
        "#選擇 & 交配\n",
        "def cross(pop,POP_SIZE,DNA_LEN,cross_rate):\n",
        "    new_pop = []\n",
        "    while len(new_pop) != POP_SIZE:\n",
        "        ran_F = random.choices(pop, k=2)\n",
        "        ran_M = random.choices(pop, k=2)\n",
        "        father = max(ran_F, key = itemgetter(1))[0]\n",
        "        mother = max(ran_M, key = itemgetter(1))[0]\n",
        "\n",
        "        if np.random.rand() < cross_rate:\n",
        "            cross_point = np.random.randint(low=0, high = DNA_LEN)\n",
        "            cut_F = father[cross_point:]\n",
        "            cut_M = mother[cross_point:]\n",
        "            father = father[:cross_point]+cut_M\n",
        "            mother = mother[:cross_point]+cut_F\n",
        "\n",
        "        new_pop.extend([father,mother])\n",
        "\n",
        "    return new_pop\n",
        "\n",
        "\n",
        "#變異\n",
        "def mutation(pop,DNA_LEN,mutation_rate):\n",
        "    \n",
        "    for m in range(len(pop)):\n",
        "        if np.random.rand() < mutation_rate:\n",
        "          mutation_gene  = np.random.randint(DNA_LEN)\n",
        "          mu_chromosome = list(pop[m])\n",
        "          if mu_chromosome[mutation_gene] == '1':\n",
        "            mu_chromosome[mutation_gene] = '0'\n",
        "          else:\n",
        "            mu_chromosome[mutation_gene] = '1'\n",
        "          \n",
        "          pop[m] = ''.join(mu_chromosome)\n",
        "\n",
        "    return pop\n",
        "\n",
        "\n",
        "#繪製種群狀態\n",
        "def draw_fitness(run,best_pop,avg_pop):\n",
        "    plt.title(\"Best & Avg fitness\")  #圖表標題\n",
        "    plt.xlabel(\"Generation\")  #圖表x軸標題\n",
        "    plt.ylabel(\"fitness\")  #圖表y軸標題\n",
        "    plt.plot(run, best_pop, color='r', label='Best fitness', linestyle='-', marker='*')   #定義畫圖的顏色、圖例、線條、形狀、寬度\n",
        "    plt.plot(run, avg_pop, color='b', label='Avg fitness', linestyle='--', marker='o')\n",
        "    plt.grid(axis='y')    #定義網格\n",
        "    plt.legend(loc='lower right')   #當有兩種以上資料,可以使用.legend()來顯示資料的圖例"
      ]
    },
    {
      "cell_type": "code",
      "execution_count": 91,
      "metadata": {},
      "outputs": [],
      "source": [
        "def train( training_data , train_data_label , train_years):\n",
        "    run = []\n",
        "    best_fitness = []\n",
        "    avg_fitness = []\n",
        "\n",
        "    POP_SIZE = 400    #種群大小\n",
        "    \n",
        "\n",
        "    DNA_LEN = get_DNA_length()    # \n",
        "    cross_rate = 0.7    #交配概率\n",
        "    mutation_rate = 0.005   #變異概率\n",
        "\n",
        "    #初始種群\n",
        "    pop = init_population(POP_SIZE)\n",
        "\n",
        "\n",
        "    #迭代次數\n",
        "    generation_num = 10\n",
        "    best_chromosome = \"\"\n",
        "    best_fit = -1e9\n",
        "\n",
        "\n",
        "    for i in range(generation_num):\n",
        "        print(f\"[Generation : {i+1}]\")\n",
        "        max_fit , avg_fit, pop = evaluate_fitness(pop , training_data , train_data_label , train_years) #計算適應度\n",
        "        # print(f\" Best chromosome : {random_forest_decode(sorted(pop, reverse=True, key = itemgetter(1))[0][0])}\\n {sorted(pop, reverse=True, key = itemgetter(1))[0][0]}\\n Best fitness:{max_fit}\\n Avg fitness:{avg_fit}\\n\")\n",
        "        print(f\" Best chromosome : {adaBoost_decode(sorted(pop, reverse=True, key = itemgetter(1))[0][0])}\\n {sorted(pop, reverse=True, key = itemgetter(1))[0][0]}\\n Best fitness:{max_fit}\\n Avg fitness:{avg_fit}\\n\")\n",
        "        \n",
        "\n",
        "        if best_fit < max_fit :\n",
        "            best_fit = max_fit\n",
        "            best_chromosome = sorted(pop, reverse=True, key = itemgetter(1))[0][0]\n",
        "\n",
        "        pop = cross(pop,POP_SIZE,DNA_LEN,cross_rate)  #交配 \n",
        "        pop = mutation(pop,DNA_LEN,mutation_rate) #變異\n",
        "\n",
        "        best_fitness.append(max_fit)\n",
        "        avg_fitness.append(avg_fit)\n",
        "        run.append(i+1)\n",
        "\n",
        "    draw_fitness(run,best_fitness,avg_fitness)\n",
        "\n",
        "    return best_chromosome\n"
      ]
    },
    {
      "cell_type": "code",
      "execution_count": 92,
      "metadata": {},
      "outputs": [],
      "source": [
        "def select_stock_and_get_IRR(best_model , drop_columns , train_years , stocks_data , data_years , buy_num):\n",
        "    \n",
        "    total_gain = 100\n",
        "    gain_list = pd.DataFrame(np.array([[0,0,0]]) ,columns = ['Gain' , 'predict' , 'correct'])\n",
        "    \n",
        "    \n",
        "    \n",
        "    for years in range(train_years , 5):\n",
        "        test_data = stocks_data[stocks_data['年月'].isin(data_years[years:years+1])]\n",
        "        test_data_label = test_data['Return']\n",
        "        test_stock_list = test_data['簡稱']\n",
        "        test_data = test_data.drop(columns=['簡稱', '年月', 'Return', 'ReturnMean_year_Label'])\n",
        "        test_data = test_data.replace(np.nan, 0)\n",
        "\n",
        "        pred_label = best_model.predict(test_data)\n",
        "        pred_label = pd.DataFrame(pred_label, columns = ['return'])\n",
        "        \n",
        "        # pred_label = random_forest_validate(best_model , drop_columns , test_data , test_data_label , years)\n",
        "        # pred_label = adaBoost_validate(best_model , drop_columns , test_data , test_data_label , years)\n",
        "        \n",
        "        pred_label.insert( loc = 0, column='簡稱' , value = test_stock_list.to_numpy())\n",
        "\n",
        "        pred_label = pred_label.sort_values(by=['return'] , ascending=False)\n",
        "     \n",
        "        #print(test_stock_list)\n",
        "        #print(pred_label)\n",
        "        #print(pred_label.iloc[0]['return'])\n",
        "\n",
        "        next_year_return = 0\n",
        "        pred_year_return = 0\n",
        "\n",
        "        for idx in range(buy_num):\n",
        "            stock_name = pred_label.iloc[idx]['簡稱']\n",
        "            next_year_return += stocks_data[ (stocks_data['簡稱'] == stock_name) & (stocks_data['年月'] == data_years[years] ) ][\"Return\"].to_numpy()[0]\n",
        "            pred_year_return += pred_label.iloc[idx][\"return\"]\n",
        "\n",
        "            #print(years ,\" / \" , idx , \" / \" , stocks_data[ (stocks_data['簡稱'] == stock_name) & (stocks_data['年月'] == data_years[years] ) ][\"Return\"].to_numpy()[0] , \"/\" , stock_name)\n",
        "\n",
        "        next_year_return /= buy_num\n",
        "        pred_year_return /= buy_num\n",
        "        #print(stock_name)\n",
        "        # print(data_years[years])\n",
        "        #print(stocks_data[ (stocks_data['簡稱'] == stock_name) & (stocks_data['年月'] == data_years[years] ) ][\"Return\"])\n",
        "\n",
        "\n",
        "        #print(next_year_return)\n",
        "\n",
        "    \n",
        "        total_gain *= (100 + next_year_return) / 100\n",
        "\n",
        "        #print(pred_label.iloc[1][\"return\"])\n",
        "\n",
        "        new_row = pd.Series({\"Gain\" : total_gain , \"predict\" : pred_label.iloc[1][\"return\"], 'correct' :  next_year_return})\n",
        "\n",
        "\n",
        "        gain_list = pd.concat([gain_list, new_row.to_frame().T], ignore_index=True, axis=0)\n",
        "        # print(stocks_data[(stocks_data['簡稱'] == stock_name) ])\n",
        "\n",
        "    # years_name = stocks_data[stocks_data['年月'].isin(data_years[train_years:])][''].to_numpy()\n",
        "    #print(gain_list)\n",
        "    #print(data_years[train_years:])\n",
        "\n",
        "    years_name = []\n",
        "\n",
        "    for i in range(len(data_years[train_years:])):\n",
        "        years_name.append(str(data_years[train_years:][i])[:4] + \"/\" + str(data_years[train_years:][i])[4:] + \"/1\")\n",
        "\n",
        "\n",
        "    fig = go.Figure()\n",
        "    fig.add_trace(go.Scatter(x=years_name, y=gain_list[\"Gain\"], name = \"Gain\"))\n",
        "    fig.show()\n",
        "    fig = go.Figure()\n",
        "    fig.add_trace(go.Scatter(x=years_name, y=gain_list[\"predict\"], name = \"predict\"))\n",
        "    fig.add_trace(go.Scatter(x=years_name, y=gain_list[\"correct\"], name = \"correct\"))\n",
        "    fig.show()\n",
        "    print(\"Total Gain\" , total_gain)\n",
        "\n",
        "    print(\"IRR \" , (( (total_gain/100) ** ( 1 / (10-train_years)))-1 ) * 100)"
      ]
    },
    {
      "cell_type": "code",
      "execution_count": 93,
      "metadata": {
        "colab": {
          "base_uri": "https://localhost:8080/",
          "height": 424
        },
        "id": "05-rRaWEr24s",
        "outputId": "a292e8f6-0643-44c0-d618-0d096fbd3ddd"
      },
      "outputs": [
        {
          "name": "stdout",
          "output_type": "stream",
          "text": [
            "100\n",
            "{'max_depth': 5, 'max_features': 0.4645669291338583, 'criterion': 'absolute_error', 'min_samples_leaf': 0.001, 'min_samples_split': 0.03937007874015748, 'random_state': 0}\n",
            "['股價淨值比', '股價營收比', 'M淨值報酬率─稅後', '資產報酬率ROA', '利潤邊際NPM', '負債/淨值比', 'M存貨週轉率 (次)', 'M稅後淨利成長率']\n"
          ]
        }
      ],
      "source": [
        "if __name__ == '__main__':  \n",
        "    data = pd.read_csv('./top200_training.csv')  #讀取csv資料檔\n",
        "\n",
        "    stocks_data = pd.read_csv('./top200_training.csv' )\n",
        "    stocks_data = stocks_data.drop(columns=['證券代碼'])\n",
        "    data_years = stocks_data['年月'].unique()\n",
        "\n",
        "       # for split_year in split_year_li:\n",
        "    for train_years in range(4,5):\n",
        "\n",
        "        train_data = stocks_data[stocks_data['年月'].isin(data_years[:train_years])]\n",
        "        train_data_label = train_data['Return']\n",
        "        train_data = train_data.drop(columns=['簡稱', '年月', 'Return', 'ReturnMean_year_Label'])\n",
        "\n",
        "        #best_chromosome = train(train_data , train_data_label , train_years)\n",
        "        # best_model , drop_columns = get_best_model(best_chromosome ,train_data , train_data_label , train_years , save_chromosome=True)\n",
        "        best_model , drop_columns = get_best_model(\"011110110000000001011110000100110110\" ,train_data , train_data_label , train_years , save_chromosome=True)\n",
        "\n",
        "        #select_stock_and_get_IRR(best_model , drop_columns , train_years , stocks_data , data_years , 10)\n",
        "        # test_data = stocks_data[stocks_data['年月'].isin(data_years[train_years:-1])]\n",
        "        # test_data_label = test_data['Return']\n",
        "        # test_data = test_data.drop(columns=['簡稱', '年月', 'Return', 'ReturnMean_year_Label'])\n",
        "        \n",
        "\n",
        "        \n",
        "        # train出最好的染色體\n",
        "        #pred_data = random_forest_validate(best_chromosome ,train_data , train_data_label , test_data , test_data_label , 3)\n",
        "        # best_model , drop_columns = get_best_model(\"101001110100001011111101111110000011010\" ,train_data , train_data_label)\n",
        "        # pred_label = random_forest_validate(best_model , drop_columns , test_data , test_data_label , 3)\n",
        "        # pred_label.insert( loc = 0, column='簡稱' , value = stocks_data['簡稱'])\n",
        "\n",
        "        # print(pred_label.sort_values(by=['return'] , ascending=False))\n",
        "\n"
      ]
    },
    {
      "cell_type": "code",
      "execution_count": 94,
      "metadata": {},
      "outputs": [
        {
          "name": "stderr",
          "output_type": "stream",
          "text": [
            "c:\\Users\\arthu\\anaconda3\\envs\\AIFT\\lib\\site-packages\\sklearn\\neural_network\\_multilayer_perceptron.py:679: ConvergenceWarning:\n",
            "\n",
            "Stochastic Optimizer: Maximum iterations (1500) reached and the optimization hasn't converged yet.\n",
            "\n"
          ]
        },
        {
          "data": {
            "application/vnd.plotly.v1+json": {
              "config": {
                "plotlyServerURL": "https://plot.ly"
              },
              "data": [
                {
                  "name": "Gain",
                  "type": "scatter",
                  "x": [
                    "2012/12/1",
                    "2013/12/1",
                    "2014/12/1",
                    "2015/12/1"
                  ],
                  "y": [
                    0,
                    139.74409,
                    178.56702449130498,
                    179.5351613279895
                  ]
                }
              ],
              "layout": {
                "template": {
                  "data": {
                    "bar": [
                      {
                        "error_x": {
                          "color": "#2a3f5f"
                        },
                        "error_y": {
                          "color": "#2a3f5f"
                        },
                        "marker": {
                          "line": {
                            "color": "#E5ECF6",
                            "width": 0.5
                          },
                          "pattern": {
                            "fillmode": "overlay",
                            "size": 10,
                            "solidity": 0.2
                          }
                        },
                        "type": "bar"
                      }
                    ],
                    "barpolar": [
                      {
                        "marker": {
                          "line": {
                            "color": "#E5ECF6",
                            "width": 0.5
                          },
                          "pattern": {
                            "fillmode": "overlay",
                            "size": 10,
                            "solidity": 0.2
                          }
                        },
                        "type": "barpolar"
                      }
                    ],
                    "carpet": [
                      {
                        "aaxis": {
                          "endlinecolor": "#2a3f5f",
                          "gridcolor": "white",
                          "linecolor": "white",
                          "minorgridcolor": "white",
                          "startlinecolor": "#2a3f5f"
                        },
                        "baxis": {
                          "endlinecolor": "#2a3f5f",
                          "gridcolor": "white",
                          "linecolor": "white",
                          "minorgridcolor": "white",
                          "startlinecolor": "#2a3f5f"
                        },
                        "type": "carpet"
                      }
                    ],
                    "choropleth": [
                      {
                        "colorbar": {
                          "outlinewidth": 0,
                          "ticks": ""
                        },
                        "type": "choropleth"
                      }
                    ],
                    "contour": [
                      {
                        "colorbar": {
                          "outlinewidth": 0,
                          "ticks": ""
                        },
                        "colorscale": [
                          [
                            0,
                            "#0d0887"
                          ],
                          [
                            0.1111111111111111,
                            "#46039f"
                          ],
                          [
                            0.2222222222222222,
                            "#7201a8"
                          ],
                          [
                            0.3333333333333333,
                            "#9c179e"
                          ],
                          [
                            0.4444444444444444,
                            "#bd3786"
                          ],
                          [
                            0.5555555555555556,
                            "#d8576b"
                          ],
                          [
                            0.6666666666666666,
                            "#ed7953"
                          ],
                          [
                            0.7777777777777778,
                            "#fb9f3a"
                          ],
                          [
                            0.8888888888888888,
                            "#fdca26"
                          ],
                          [
                            1,
                            "#f0f921"
                          ]
                        ],
                        "type": "contour"
                      }
                    ],
                    "contourcarpet": [
                      {
                        "colorbar": {
                          "outlinewidth": 0,
                          "ticks": ""
                        },
                        "type": "contourcarpet"
                      }
                    ],
                    "heatmap": [
                      {
                        "colorbar": {
                          "outlinewidth": 0,
                          "ticks": ""
                        },
                        "colorscale": [
                          [
                            0,
                            "#0d0887"
                          ],
                          [
                            0.1111111111111111,
                            "#46039f"
                          ],
                          [
                            0.2222222222222222,
                            "#7201a8"
                          ],
                          [
                            0.3333333333333333,
                            "#9c179e"
                          ],
                          [
                            0.4444444444444444,
                            "#bd3786"
                          ],
                          [
                            0.5555555555555556,
                            "#d8576b"
                          ],
                          [
                            0.6666666666666666,
                            "#ed7953"
                          ],
                          [
                            0.7777777777777778,
                            "#fb9f3a"
                          ],
                          [
                            0.8888888888888888,
                            "#fdca26"
                          ],
                          [
                            1,
                            "#f0f921"
                          ]
                        ],
                        "type": "heatmap"
                      }
                    ],
                    "heatmapgl": [
                      {
                        "colorbar": {
                          "outlinewidth": 0,
                          "ticks": ""
                        },
                        "colorscale": [
                          [
                            0,
                            "#0d0887"
                          ],
                          [
                            0.1111111111111111,
                            "#46039f"
                          ],
                          [
                            0.2222222222222222,
                            "#7201a8"
                          ],
                          [
                            0.3333333333333333,
                            "#9c179e"
                          ],
                          [
                            0.4444444444444444,
                            "#bd3786"
                          ],
                          [
                            0.5555555555555556,
                            "#d8576b"
                          ],
                          [
                            0.6666666666666666,
                            "#ed7953"
                          ],
                          [
                            0.7777777777777778,
                            "#fb9f3a"
                          ],
                          [
                            0.8888888888888888,
                            "#fdca26"
                          ],
                          [
                            1,
                            "#f0f921"
                          ]
                        ],
                        "type": "heatmapgl"
                      }
                    ],
                    "histogram": [
                      {
                        "marker": {
                          "pattern": {
                            "fillmode": "overlay",
                            "size": 10,
                            "solidity": 0.2
                          }
                        },
                        "type": "histogram"
                      }
                    ],
                    "histogram2d": [
                      {
                        "colorbar": {
                          "outlinewidth": 0,
                          "ticks": ""
                        },
                        "colorscale": [
                          [
                            0,
                            "#0d0887"
                          ],
                          [
                            0.1111111111111111,
                            "#46039f"
                          ],
                          [
                            0.2222222222222222,
                            "#7201a8"
                          ],
                          [
                            0.3333333333333333,
                            "#9c179e"
                          ],
                          [
                            0.4444444444444444,
                            "#bd3786"
                          ],
                          [
                            0.5555555555555556,
                            "#d8576b"
                          ],
                          [
                            0.6666666666666666,
                            "#ed7953"
                          ],
                          [
                            0.7777777777777778,
                            "#fb9f3a"
                          ],
                          [
                            0.8888888888888888,
                            "#fdca26"
                          ],
                          [
                            1,
                            "#f0f921"
                          ]
                        ],
                        "type": "histogram2d"
                      }
                    ],
                    "histogram2dcontour": [
                      {
                        "colorbar": {
                          "outlinewidth": 0,
                          "ticks": ""
                        },
                        "colorscale": [
                          [
                            0,
                            "#0d0887"
                          ],
                          [
                            0.1111111111111111,
                            "#46039f"
                          ],
                          [
                            0.2222222222222222,
                            "#7201a8"
                          ],
                          [
                            0.3333333333333333,
                            "#9c179e"
                          ],
                          [
                            0.4444444444444444,
                            "#bd3786"
                          ],
                          [
                            0.5555555555555556,
                            "#d8576b"
                          ],
                          [
                            0.6666666666666666,
                            "#ed7953"
                          ],
                          [
                            0.7777777777777778,
                            "#fb9f3a"
                          ],
                          [
                            0.8888888888888888,
                            "#fdca26"
                          ],
                          [
                            1,
                            "#f0f921"
                          ]
                        ],
                        "type": "histogram2dcontour"
                      }
                    ],
                    "mesh3d": [
                      {
                        "colorbar": {
                          "outlinewidth": 0,
                          "ticks": ""
                        },
                        "type": "mesh3d"
                      }
                    ],
                    "parcoords": [
                      {
                        "line": {
                          "colorbar": {
                            "outlinewidth": 0,
                            "ticks": ""
                          }
                        },
                        "type": "parcoords"
                      }
                    ],
                    "pie": [
                      {
                        "automargin": true,
                        "type": "pie"
                      }
                    ],
                    "scatter": [
                      {
                        "fillpattern": {
                          "fillmode": "overlay",
                          "size": 10,
                          "solidity": 0.2
                        },
                        "type": "scatter"
                      }
                    ],
                    "scatter3d": [
                      {
                        "line": {
                          "colorbar": {
                            "outlinewidth": 0,
                            "ticks": ""
                          }
                        },
                        "marker": {
                          "colorbar": {
                            "outlinewidth": 0,
                            "ticks": ""
                          }
                        },
                        "type": "scatter3d"
                      }
                    ],
                    "scattercarpet": [
                      {
                        "marker": {
                          "colorbar": {
                            "outlinewidth": 0,
                            "ticks": ""
                          }
                        },
                        "type": "scattercarpet"
                      }
                    ],
                    "scattergeo": [
                      {
                        "marker": {
                          "colorbar": {
                            "outlinewidth": 0,
                            "ticks": ""
                          }
                        },
                        "type": "scattergeo"
                      }
                    ],
                    "scattergl": [
                      {
                        "marker": {
                          "colorbar": {
                            "outlinewidth": 0,
                            "ticks": ""
                          }
                        },
                        "type": "scattergl"
                      }
                    ],
                    "scattermapbox": [
                      {
                        "marker": {
                          "colorbar": {
                            "outlinewidth": 0,
                            "ticks": ""
                          }
                        },
                        "type": "scattermapbox"
                      }
                    ],
                    "scatterpolar": [
                      {
                        "marker": {
                          "colorbar": {
                            "outlinewidth": 0,
                            "ticks": ""
                          }
                        },
                        "type": "scatterpolar"
                      }
                    ],
                    "scatterpolargl": [
                      {
                        "marker": {
                          "colorbar": {
                            "outlinewidth": 0,
                            "ticks": ""
                          }
                        },
                        "type": "scatterpolargl"
                      }
                    ],
                    "scatterternary": [
                      {
                        "marker": {
                          "colorbar": {
                            "outlinewidth": 0,
                            "ticks": ""
                          }
                        },
                        "type": "scatterternary"
                      }
                    ],
                    "surface": [
                      {
                        "colorbar": {
                          "outlinewidth": 0,
                          "ticks": ""
                        },
                        "colorscale": [
                          [
                            0,
                            "#0d0887"
                          ],
                          [
                            0.1111111111111111,
                            "#46039f"
                          ],
                          [
                            0.2222222222222222,
                            "#7201a8"
                          ],
                          [
                            0.3333333333333333,
                            "#9c179e"
                          ],
                          [
                            0.4444444444444444,
                            "#bd3786"
                          ],
                          [
                            0.5555555555555556,
                            "#d8576b"
                          ],
                          [
                            0.6666666666666666,
                            "#ed7953"
                          ],
                          [
                            0.7777777777777778,
                            "#fb9f3a"
                          ],
                          [
                            0.8888888888888888,
                            "#fdca26"
                          ],
                          [
                            1,
                            "#f0f921"
                          ]
                        ],
                        "type": "surface"
                      }
                    ],
                    "table": [
                      {
                        "cells": {
                          "fill": {
                            "color": "#EBF0F8"
                          },
                          "line": {
                            "color": "white"
                          }
                        },
                        "header": {
                          "fill": {
                            "color": "#C8D4E3"
                          },
                          "line": {
                            "color": "white"
                          }
                        },
                        "type": "table"
                      }
                    ]
                  },
                  "layout": {
                    "annotationdefaults": {
                      "arrowcolor": "#2a3f5f",
                      "arrowhead": 0,
                      "arrowwidth": 1
                    },
                    "autotypenumbers": "strict",
                    "coloraxis": {
                      "colorbar": {
                        "outlinewidth": 0,
                        "ticks": ""
                      }
                    },
                    "colorscale": {
                      "diverging": [
                        [
                          0,
                          "#8e0152"
                        ],
                        [
                          0.1,
                          "#c51b7d"
                        ],
                        [
                          0.2,
                          "#de77ae"
                        ],
                        [
                          0.3,
                          "#f1b6da"
                        ],
                        [
                          0.4,
                          "#fde0ef"
                        ],
                        [
                          0.5,
                          "#f7f7f7"
                        ],
                        [
                          0.6,
                          "#e6f5d0"
                        ],
                        [
                          0.7,
                          "#b8e186"
                        ],
                        [
                          0.8,
                          "#7fbc41"
                        ],
                        [
                          0.9,
                          "#4d9221"
                        ],
                        [
                          1,
                          "#276419"
                        ]
                      ],
                      "sequential": [
                        [
                          0,
                          "#0d0887"
                        ],
                        [
                          0.1111111111111111,
                          "#46039f"
                        ],
                        [
                          0.2222222222222222,
                          "#7201a8"
                        ],
                        [
                          0.3333333333333333,
                          "#9c179e"
                        ],
                        [
                          0.4444444444444444,
                          "#bd3786"
                        ],
                        [
                          0.5555555555555556,
                          "#d8576b"
                        ],
                        [
                          0.6666666666666666,
                          "#ed7953"
                        ],
                        [
                          0.7777777777777778,
                          "#fb9f3a"
                        ],
                        [
                          0.8888888888888888,
                          "#fdca26"
                        ],
                        [
                          1,
                          "#f0f921"
                        ]
                      ],
                      "sequentialminus": [
                        [
                          0,
                          "#0d0887"
                        ],
                        [
                          0.1111111111111111,
                          "#46039f"
                        ],
                        [
                          0.2222222222222222,
                          "#7201a8"
                        ],
                        [
                          0.3333333333333333,
                          "#9c179e"
                        ],
                        [
                          0.4444444444444444,
                          "#bd3786"
                        ],
                        [
                          0.5555555555555556,
                          "#d8576b"
                        ],
                        [
                          0.6666666666666666,
                          "#ed7953"
                        ],
                        [
                          0.7777777777777778,
                          "#fb9f3a"
                        ],
                        [
                          0.8888888888888888,
                          "#fdca26"
                        ],
                        [
                          1,
                          "#f0f921"
                        ]
                      ]
                    },
                    "colorway": [
                      "#636efa",
                      "#EF553B",
                      "#00cc96",
                      "#ab63fa",
                      "#FFA15A",
                      "#19d3f3",
                      "#FF6692",
                      "#B6E880",
                      "#FF97FF",
                      "#FECB52"
                    ],
                    "font": {
                      "color": "#2a3f5f"
                    },
                    "geo": {
                      "bgcolor": "white",
                      "lakecolor": "white",
                      "landcolor": "#E5ECF6",
                      "showlakes": true,
                      "showland": true,
                      "subunitcolor": "white"
                    },
                    "hoverlabel": {
                      "align": "left"
                    },
                    "hovermode": "closest",
                    "mapbox": {
                      "style": "light"
                    },
                    "paper_bgcolor": "white",
                    "plot_bgcolor": "#E5ECF6",
                    "polar": {
                      "angularaxis": {
                        "gridcolor": "white",
                        "linecolor": "white",
                        "ticks": ""
                      },
                      "bgcolor": "#E5ECF6",
                      "radialaxis": {
                        "gridcolor": "white",
                        "linecolor": "white",
                        "ticks": ""
                      }
                    },
                    "scene": {
                      "xaxis": {
                        "backgroundcolor": "#E5ECF6",
                        "gridcolor": "white",
                        "gridwidth": 2,
                        "linecolor": "white",
                        "showbackground": true,
                        "ticks": "",
                        "zerolinecolor": "white"
                      },
                      "yaxis": {
                        "backgroundcolor": "#E5ECF6",
                        "gridcolor": "white",
                        "gridwidth": 2,
                        "linecolor": "white",
                        "showbackground": true,
                        "ticks": "",
                        "zerolinecolor": "white"
                      },
                      "zaxis": {
                        "backgroundcolor": "#E5ECF6",
                        "gridcolor": "white",
                        "gridwidth": 2,
                        "linecolor": "white",
                        "showbackground": true,
                        "ticks": "",
                        "zerolinecolor": "white"
                      }
                    },
                    "shapedefaults": {
                      "line": {
                        "color": "#2a3f5f"
                      }
                    },
                    "ternary": {
                      "aaxis": {
                        "gridcolor": "white",
                        "linecolor": "white",
                        "ticks": ""
                      },
                      "baxis": {
                        "gridcolor": "white",
                        "linecolor": "white",
                        "ticks": ""
                      },
                      "bgcolor": "#E5ECF6",
                      "caxis": {
                        "gridcolor": "white",
                        "linecolor": "white",
                        "ticks": ""
                      }
                    },
                    "title": {
                      "x": 0.05
                    },
                    "xaxis": {
                      "automargin": true,
                      "gridcolor": "white",
                      "linecolor": "white",
                      "ticks": "",
                      "title": {
                        "standoff": 15
                      },
                      "zerolinecolor": "white",
                      "zerolinewidth": 2
                    },
                    "yaxis": {
                      "automargin": true,
                      "gridcolor": "white",
                      "linecolor": "white",
                      "ticks": "",
                      "title": {
                        "standoff": 15
                      },
                      "zerolinecolor": "white",
                      "zerolinewidth": 2
                    }
                  }
                }
              }
            }
          },
          "metadata": {},
          "output_type": "display_data"
        },
        {
          "data": {
            "application/vnd.plotly.v1+json": {
              "config": {
                "plotlyServerURL": "https://plot.ly"
              },
              "data": [
                {
                  "name": "predict",
                  "type": "scatter",
                  "x": [
                    "2012/12/1",
                    "2013/12/1",
                    "2014/12/1",
                    "2015/12/1"
                  ],
                  "y": [
                    0,
                    24.25623727547352,
                    36.70442465050038,
                    25.790137961032723
                  ]
                },
                {
                  "name": "correct",
                  "type": "scatter",
                  "x": [
                    "2012/12/1",
                    "2013/12/1",
                    "2014/12/1",
                    "2015/12/1"
                  ],
                  "y": [
                    0,
                    39.74408999999999,
                    27.781449999999996,
                    0.5421699999999996
                  ]
                }
              ],
              "layout": {
                "template": {
                  "data": {
                    "bar": [
                      {
                        "error_x": {
                          "color": "#2a3f5f"
                        },
                        "error_y": {
                          "color": "#2a3f5f"
                        },
                        "marker": {
                          "line": {
                            "color": "#E5ECF6",
                            "width": 0.5
                          },
                          "pattern": {
                            "fillmode": "overlay",
                            "size": 10,
                            "solidity": 0.2
                          }
                        },
                        "type": "bar"
                      }
                    ],
                    "barpolar": [
                      {
                        "marker": {
                          "line": {
                            "color": "#E5ECF6",
                            "width": 0.5
                          },
                          "pattern": {
                            "fillmode": "overlay",
                            "size": 10,
                            "solidity": 0.2
                          }
                        },
                        "type": "barpolar"
                      }
                    ],
                    "carpet": [
                      {
                        "aaxis": {
                          "endlinecolor": "#2a3f5f",
                          "gridcolor": "white",
                          "linecolor": "white",
                          "minorgridcolor": "white",
                          "startlinecolor": "#2a3f5f"
                        },
                        "baxis": {
                          "endlinecolor": "#2a3f5f",
                          "gridcolor": "white",
                          "linecolor": "white",
                          "minorgridcolor": "white",
                          "startlinecolor": "#2a3f5f"
                        },
                        "type": "carpet"
                      }
                    ],
                    "choropleth": [
                      {
                        "colorbar": {
                          "outlinewidth": 0,
                          "ticks": ""
                        },
                        "type": "choropleth"
                      }
                    ],
                    "contour": [
                      {
                        "colorbar": {
                          "outlinewidth": 0,
                          "ticks": ""
                        },
                        "colorscale": [
                          [
                            0,
                            "#0d0887"
                          ],
                          [
                            0.1111111111111111,
                            "#46039f"
                          ],
                          [
                            0.2222222222222222,
                            "#7201a8"
                          ],
                          [
                            0.3333333333333333,
                            "#9c179e"
                          ],
                          [
                            0.4444444444444444,
                            "#bd3786"
                          ],
                          [
                            0.5555555555555556,
                            "#d8576b"
                          ],
                          [
                            0.6666666666666666,
                            "#ed7953"
                          ],
                          [
                            0.7777777777777778,
                            "#fb9f3a"
                          ],
                          [
                            0.8888888888888888,
                            "#fdca26"
                          ],
                          [
                            1,
                            "#f0f921"
                          ]
                        ],
                        "type": "contour"
                      }
                    ],
                    "contourcarpet": [
                      {
                        "colorbar": {
                          "outlinewidth": 0,
                          "ticks": ""
                        },
                        "type": "contourcarpet"
                      }
                    ],
                    "heatmap": [
                      {
                        "colorbar": {
                          "outlinewidth": 0,
                          "ticks": ""
                        },
                        "colorscale": [
                          [
                            0,
                            "#0d0887"
                          ],
                          [
                            0.1111111111111111,
                            "#46039f"
                          ],
                          [
                            0.2222222222222222,
                            "#7201a8"
                          ],
                          [
                            0.3333333333333333,
                            "#9c179e"
                          ],
                          [
                            0.4444444444444444,
                            "#bd3786"
                          ],
                          [
                            0.5555555555555556,
                            "#d8576b"
                          ],
                          [
                            0.6666666666666666,
                            "#ed7953"
                          ],
                          [
                            0.7777777777777778,
                            "#fb9f3a"
                          ],
                          [
                            0.8888888888888888,
                            "#fdca26"
                          ],
                          [
                            1,
                            "#f0f921"
                          ]
                        ],
                        "type": "heatmap"
                      }
                    ],
                    "heatmapgl": [
                      {
                        "colorbar": {
                          "outlinewidth": 0,
                          "ticks": ""
                        },
                        "colorscale": [
                          [
                            0,
                            "#0d0887"
                          ],
                          [
                            0.1111111111111111,
                            "#46039f"
                          ],
                          [
                            0.2222222222222222,
                            "#7201a8"
                          ],
                          [
                            0.3333333333333333,
                            "#9c179e"
                          ],
                          [
                            0.4444444444444444,
                            "#bd3786"
                          ],
                          [
                            0.5555555555555556,
                            "#d8576b"
                          ],
                          [
                            0.6666666666666666,
                            "#ed7953"
                          ],
                          [
                            0.7777777777777778,
                            "#fb9f3a"
                          ],
                          [
                            0.8888888888888888,
                            "#fdca26"
                          ],
                          [
                            1,
                            "#f0f921"
                          ]
                        ],
                        "type": "heatmapgl"
                      }
                    ],
                    "histogram": [
                      {
                        "marker": {
                          "pattern": {
                            "fillmode": "overlay",
                            "size": 10,
                            "solidity": 0.2
                          }
                        },
                        "type": "histogram"
                      }
                    ],
                    "histogram2d": [
                      {
                        "colorbar": {
                          "outlinewidth": 0,
                          "ticks": ""
                        },
                        "colorscale": [
                          [
                            0,
                            "#0d0887"
                          ],
                          [
                            0.1111111111111111,
                            "#46039f"
                          ],
                          [
                            0.2222222222222222,
                            "#7201a8"
                          ],
                          [
                            0.3333333333333333,
                            "#9c179e"
                          ],
                          [
                            0.4444444444444444,
                            "#bd3786"
                          ],
                          [
                            0.5555555555555556,
                            "#d8576b"
                          ],
                          [
                            0.6666666666666666,
                            "#ed7953"
                          ],
                          [
                            0.7777777777777778,
                            "#fb9f3a"
                          ],
                          [
                            0.8888888888888888,
                            "#fdca26"
                          ],
                          [
                            1,
                            "#f0f921"
                          ]
                        ],
                        "type": "histogram2d"
                      }
                    ],
                    "histogram2dcontour": [
                      {
                        "colorbar": {
                          "outlinewidth": 0,
                          "ticks": ""
                        },
                        "colorscale": [
                          [
                            0,
                            "#0d0887"
                          ],
                          [
                            0.1111111111111111,
                            "#46039f"
                          ],
                          [
                            0.2222222222222222,
                            "#7201a8"
                          ],
                          [
                            0.3333333333333333,
                            "#9c179e"
                          ],
                          [
                            0.4444444444444444,
                            "#bd3786"
                          ],
                          [
                            0.5555555555555556,
                            "#d8576b"
                          ],
                          [
                            0.6666666666666666,
                            "#ed7953"
                          ],
                          [
                            0.7777777777777778,
                            "#fb9f3a"
                          ],
                          [
                            0.8888888888888888,
                            "#fdca26"
                          ],
                          [
                            1,
                            "#f0f921"
                          ]
                        ],
                        "type": "histogram2dcontour"
                      }
                    ],
                    "mesh3d": [
                      {
                        "colorbar": {
                          "outlinewidth": 0,
                          "ticks": ""
                        },
                        "type": "mesh3d"
                      }
                    ],
                    "parcoords": [
                      {
                        "line": {
                          "colorbar": {
                            "outlinewidth": 0,
                            "ticks": ""
                          }
                        },
                        "type": "parcoords"
                      }
                    ],
                    "pie": [
                      {
                        "automargin": true,
                        "type": "pie"
                      }
                    ],
                    "scatter": [
                      {
                        "fillpattern": {
                          "fillmode": "overlay",
                          "size": 10,
                          "solidity": 0.2
                        },
                        "type": "scatter"
                      }
                    ],
                    "scatter3d": [
                      {
                        "line": {
                          "colorbar": {
                            "outlinewidth": 0,
                            "ticks": ""
                          }
                        },
                        "marker": {
                          "colorbar": {
                            "outlinewidth": 0,
                            "ticks": ""
                          }
                        },
                        "type": "scatter3d"
                      }
                    ],
                    "scattercarpet": [
                      {
                        "marker": {
                          "colorbar": {
                            "outlinewidth": 0,
                            "ticks": ""
                          }
                        },
                        "type": "scattercarpet"
                      }
                    ],
                    "scattergeo": [
                      {
                        "marker": {
                          "colorbar": {
                            "outlinewidth": 0,
                            "ticks": ""
                          }
                        },
                        "type": "scattergeo"
                      }
                    ],
                    "scattergl": [
                      {
                        "marker": {
                          "colorbar": {
                            "outlinewidth": 0,
                            "ticks": ""
                          }
                        },
                        "type": "scattergl"
                      }
                    ],
                    "scattermapbox": [
                      {
                        "marker": {
                          "colorbar": {
                            "outlinewidth": 0,
                            "ticks": ""
                          }
                        },
                        "type": "scattermapbox"
                      }
                    ],
                    "scatterpolar": [
                      {
                        "marker": {
                          "colorbar": {
                            "outlinewidth": 0,
                            "ticks": ""
                          }
                        },
                        "type": "scatterpolar"
                      }
                    ],
                    "scatterpolargl": [
                      {
                        "marker": {
                          "colorbar": {
                            "outlinewidth": 0,
                            "ticks": ""
                          }
                        },
                        "type": "scatterpolargl"
                      }
                    ],
                    "scatterternary": [
                      {
                        "marker": {
                          "colorbar": {
                            "outlinewidth": 0,
                            "ticks": ""
                          }
                        },
                        "type": "scatterternary"
                      }
                    ],
                    "surface": [
                      {
                        "colorbar": {
                          "outlinewidth": 0,
                          "ticks": ""
                        },
                        "colorscale": [
                          [
                            0,
                            "#0d0887"
                          ],
                          [
                            0.1111111111111111,
                            "#46039f"
                          ],
                          [
                            0.2222222222222222,
                            "#7201a8"
                          ],
                          [
                            0.3333333333333333,
                            "#9c179e"
                          ],
                          [
                            0.4444444444444444,
                            "#bd3786"
                          ],
                          [
                            0.5555555555555556,
                            "#d8576b"
                          ],
                          [
                            0.6666666666666666,
                            "#ed7953"
                          ],
                          [
                            0.7777777777777778,
                            "#fb9f3a"
                          ],
                          [
                            0.8888888888888888,
                            "#fdca26"
                          ],
                          [
                            1,
                            "#f0f921"
                          ]
                        ],
                        "type": "surface"
                      }
                    ],
                    "table": [
                      {
                        "cells": {
                          "fill": {
                            "color": "#EBF0F8"
                          },
                          "line": {
                            "color": "white"
                          }
                        },
                        "header": {
                          "fill": {
                            "color": "#C8D4E3"
                          },
                          "line": {
                            "color": "white"
                          }
                        },
                        "type": "table"
                      }
                    ]
                  },
                  "layout": {
                    "annotationdefaults": {
                      "arrowcolor": "#2a3f5f",
                      "arrowhead": 0,
                      "arrowwidth": 1
                    },
                    "autotypenumbers": "strict",
                    "coloraxis": {
                      "colorbar": {
                        "outlinewidth": 0,
                        "ticks": ""
                      }
                    },
                    "colorscale": {
                      "diverging": [
                        [
                          0,
                          "#8e0152"
                        ],
                        [
                          0.1,
                          "#c51b7d"
                        ],
                        [
                          0.2,
                          "#de77ae"
                        ],
                        [
                          0.3,
                          "#f1b6da"
                        ],
                        [
                          0.4,
                          "#fde0ef"
                        ],
                        [
                          0.5,
                          "#f7f7f7"
                        ],
                        [
                          0.6,
                          "#e6f5d0"
                        ],
                        [
                          0.7,
                          "#b8e186"
                        ],
                        [
                          0.8,
                          "#7fbc41"
                        ],
                        [
                          0.9,
                          "#4d9221"
                        ],
                        [
                          1,
                          "#276419"
                        ]
                      ],
                      "sequential": [
                        [
                          0,
                          "#0d0887"
                        ],
                        [
                          0.1111111111111111,
                          "#46039f"
                        ],
                        [
                          0.2222222222222222,
                          "#7201a8"
                        ],
                        [
                          0.3333333333333333,
                          "#9c179e"
                        ],
                        [
                          0.4444444444444444,
                          "#bd3786"
                        ],
                        [
                          0.5555555555555556,
                          "#d8576b"
                        ],
                        [
                          0.6666666666666666,
                          "#ed7953"
                        ],
                        [
                          0.7777777777777778,
                          "#fb9f3a"
                        ],
                        [
                          0.8888888888888888,
                          "#fdca26"
                        ],
                        [
                          1,
                          "#f0f921"
                        ]
                      ],
                      "sequentialminus": [
                        [
                          0,
                          "#0d0887"
                        ],
                        [
                          0.1111111111111111,
                          "#46039f"
                        ],
                        [
                          0.2222222222222222,
                          "#7201a8"
                        ],
                        [
                          0.3333333333333333,
                          "#9c179e"
                        ],
                        [
                          0.4444444444444444,
                          "#bd3786"
                        ],
                        [
                          0.5555555555555556,
                          "#d8576b"
                        ],
                        [
                          0.6666666666666666,
                          "#ed7953"
                        ],
                        [
                          0.7777777777777778,
                          "#fb9f3a"
                        ],
                        [
                          0.8888888888888888,
                          "#fdca26"
                        ],
                        [
                          1,
                          "#f0f921"
                        ]
                      ]
                    },
                    "colorway": [
                      "#636efa",
                      "#EF553B",
                      "#00cc96",
                      "#ab63fa",
                      "#FFA15A",
                      "#19d3f3",
                      "#FF6692",
                      "#B6E880",
                      "#FF97FF",
                      "#FECB52"
                    ],
                    "font": {
                      "color": "#2a3f5f"
                    },
                    "geo": {
                      "bgcolor": "white",
                      "lakecolor": "white",
                      "landcolor": "#E5ECF6",
                      "showlakes": true,
                      "showland": true,
                      "subunitcolor": "white"
                    },
                    "hoverlabel": {
                      "align": "left"
                    },
                    "hovermode": "closest",
                    "mapbox": {
                      "style": "light"
                    },
                    "paper_bgcolor": "white",
                    "plot_bgcolor": "#E5ECF6",
                    "polar": {
                      "angularaxis": {
                        "gridcolor": "white",
                        "linecolor": "white",
                        "ticks": ""
                      },
                      "bgcolor": "#E5ECF6",
                      "radialaxis": {
                        "gridcolor": "white",
                        "linecolor": "white",
                        "ticks": ""
                      }
                    },
                    "scene": {
                      "xaxis": {
                        "backgroundcolor": "#E5ECF6",
                        "gridcolor": "white",
                        "gridwidth": 2,
                        "linecolor": "white",
                        "showbackground": true,
                        "ticks": "",
                        "zerolinecolor": "white"
                      },
                      "yaxis": {
                        "backgroundcolor": "#E5ECF6",
                        "gridcolor": "white",
                        "gridwidth": 2,
                        "linecolor": "white",
                        "showbackground": true,
                        "ticks": "",
                        "zerolinecolor": "white"
                      },
                      "zaxis": {
                        "backgroundcolor": "#E5ECF6",
                        "gridcolor": "white",
                        "gridwidth": 2,
                        "linecolor": "white",
                        "showbackground": true,
                        "ticks": "",
                        "zerolinecolor": "white"
                      }
                    },
                    "shapedefaults": {
                      "line": {
                        "color": "#2a3f5f"
                      }
                    },
                    "ternary": {
                      "aaxis": {
                        "gridcolor": "white",
                        "linecolor": "white",
                        "ticks": ""
                      },
                      "baxis": {
                        "gridcolor": "white",
                        "linecolor": "white",
                        "ticks": ""
                      },
                      "bgcolor": "#E5ECF6",
                      "caxis": {
                        "gridcolor": "white",
                        "linecolor": "white",
                        "ticks": ""
                      }
                    },
                    "title": {
                      "x": 0.05
                    },
                    "xaxis": {
                      "automargin": true,
                      "gridcolor": "white",
                      "linecolor": "white",
                      "ticks": "",
                      "title": {
                        "standoff": 15
                      },
                      "zerolinecolor": "white",
                      "zerolinewidth": 2
                    },
                    "yaxis": {
                      "automargin": true,
                      "gridcolor": "white",
                      "linecolor": "white",
                      "ticks": "",
                      "title": {
                        "standoff": 15
                      },
                      "zerolinecolor": "white",
                      "zerolinewidth": 2
                    }
                  }
                }
              }
            }
          },
          "metadata": {},
          "output_type": "display_data"
        },
        {
          "name": "stdout",
          "output_type": "stream",
          "text": [
            "Total Gain 179.5351613279895\n",
            "IRR  7.5892027967074505\n"
          ]
        }
      ],
      "source": [
        "\n",
        "\n",
        "stocks_data = pd.read_csv('./top200_testing.csv' , na_values= '#DIV/0!' )\n",
        "stocks_data = stocks_data.drop(columns=['證券代碼'])\n",
        "data_years = stocks_data['年月'].unique()\n",
        "\n",
        "# ['股價淨值比', '資產報酬率ROA', '利潤邊際NPM', '負債/淨值比',  'M存貨週轉率 (次)', , 'M稅後淨利成長率']\n",
        "train_years = 2\n",
        "train_data = stocks_data[stocks_data['年月'].isin(data_years[:train_years])]\n",
        "train_data_label = train_data['Return']\n",
        "train_data = train_data.drop(columns=['簡稱', '年月', 'Return', 'ReturnMean_year_Label'])\n",
        "train_data = train_data.replace(np.nan, 0)\n",
        "\n",
        "\n",
        "\n",
        "dt_arg = {'max_depth': 5, 'max_features': 0.4645669291338583, 'criterion': 'absolute_error', 'min_samples_leaf': 0.001, 'min_samples_split': 0.03937007874015748, 'random_state': 0}\n",
        "adaBoost = AdaBoostRegressor(\n",
        "    DecisionTreeRegressor(**dt_arg), n_estimators=100, random_state= False\n",
        ")\n",
        "\n",
        "rd_arg = {'n_estimators': 74, 'max_depth': 23, 'max_features': 0.4015748031496063, 'max_samples': 0.4931875, 'oob_score': True, 'n_jobs': -1, 'random_state': 0}\n",
        "\n",
        "random_forest = RandomForestRegressor(**rd_arg)\n",
        "\n",
        "regressor = StackingRegressor(\n",
        "    estimators=[('ada' , adaBoost) , ('rd',random_forest)],\n",
        "    final_estimator= MLPRegressor(activation = \"relu\", alpha = 0.1, hidden_layer_sizes = (8,8) , max_iter = 1500),\n",
        ")\n",
        "    # final_estimator= RandomForestRegressor(n_estimators = 20 , \n",
        "    #     max_depth = 5),\n",
        "\n",
        "regressor.fit(train_data, train_data_label) \n",
        "\n",
        "select_stock_and_get_IRR(regressor , [] , train_years , stocks_data , data_years , 10)"
      ]
    }
  ],
  "metadata": {
    "colab": {
      "collapsed_sections": [
        "tnCmpL6dm4pf",
        "WRoOyetdrvu2"
      ],
      "provenance": []
    },
    "kernelspec": {
      "display_name": "AIFT",
      "language": "python",
      "name": "python3"
    },
    "language_info": {
      "codemirror_mode": {
        "name": "ipython",
        "version": 3
      },
      "file_extension": ".py",
      "mimetype": "text/x-python",
      "name": "python",
      "nbconvert_exporter": "python",
      "pygments_lexer": "ipython3",
      "version": "3.9.15"
    },
    "vscode": {
      "interpreter": {
        "hash": "08e0458b554c2e15ec9e5c1fb89f41fc334ad7e45231237ea471309645d35614"
      }
    }
  },
  "nbformat": 4,
  "nbformat_minor": 0
}
